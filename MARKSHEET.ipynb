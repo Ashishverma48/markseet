{
 "cells": [
  {
   "cell_type": "code",
   "execution_count": 5,
   "id": "ae98a260",
   "metadata": {},
   "outputs": [
    {
     "name": "stdout",
     "output_type": "stream",
     "text": [
      "ENTER THE COST PRICE - 111\n",
      "ENTER THE SELLING PRICE - 11\n",
      "LOSS 100\n"
     ]
    }
   ],
   "source": [
    "#profit and loss\n",
    "cost_price = int(input(\"ENTER THE COST PRICE - \"))\n",
    "selling_price = int(input(\"ENTER THE SELLING PRICE - \"))\n",
    "if selling_price>cost_price:\n",
    "    print(\"PROFIT \",selling_price-cost_price)\n",
    "else:\n",
    "    print(\"LOSS\",cost_price-selling_price)\n"
   ]
  },
  {
   "cell_type": "code",
   "execution_count": 8,
   "id": "39fe6e71",
   "metadata": {},
   "outputs": [
    {
     "name": "stdout",
     "output_type": "stream",
     "text": [
      "ENTER YOUR AGE 19\n",
      "YOU CAN VOTE \n"
     ]
    }
   ],
   "source": [
    "#voting\n",
    "age = int(input(\"ENTER YOUR AGE \"))\n",
    "if age>18:\n",
    "    print(\"YOU CAN VOTE \")\n",
    "else:\n",
    "    print(\"YOU CAN'T VOTE\" )"
   ]
  },
  {
   "cell_type": "code",
   "execution_count": 13,
   "id": "1406d8ee",
   "metadata": {},
   "outputs": [
    {
     "name": "stdout",
     "output_type": "stream",
     "text": [
      "ENTER THE MARKS OF HINDI - 54\n",
      "ENTER THE MARKS OF ENGLISH - 33\n",
      "ENTER THE MARKS OF MATH - 44\n",
      "ENTER THE MARKS OF PHYSICS - 34\n",
      "ENTER THE MARKS OF CHEMISTRY - 54\n",
      "TOTAL MARKS IS -  219\n",
      "PERCENTAGE IS -  43.8\n",
      "THIRD DIVISION\n"
     ]
    }
   ],
   "source": [
    "#12th result\n",
    "hindi = int(input(\"ENTER THE MARKS OF HINDI - \"))\n",
    "english = int(input(\"ENTER THE MARKS OF ENGLISH - \"))\n",
    "math = int(input(\"ENTER THE MARKS OF MATH - \"))\n",
    "physics = int(input(\"ENTER THE MARKS OF PHYSICS - \"))\n",
    "chemistry = int(input(\"ENTER THE MARKS OF CHEMISTRY - \"))\n",
    "total_number = (hindi+english+math+physics+chemistry)\n",
    "print(\"TOTAL MARKS IS - \",total_number)\n",
    "per = (total_number/500)*100\n",
    "print(\"PERCENTAGE IS - \",per)\n",
    "if per>=65:\n",
    "    print(\"FIRST DIVISION\")\n",
    "elif per>=52:\n",
    "    print(\"SECOND DIVISION\")\n",
    "elif per>=33:\n",
    "    print(\"THIRD DIVISION\")\n",
    "else:\n",
    "    print(\"FAIL\")"
   ]
  },
  {
   "cell_type": "code",
   "execution_count": null,
   "id": "a55065c0",
   "metadata": {},
   "outputs": [],
   "source": []
  }
 ],
 "metadata": {
  "kernelspec": {
   "display_name": "Python 3 (ipykernel)",
   "language": "python",
   "name": "python3"
  },
  "language_info": {
   "codemirror_mode": {
    "name": "ipython",
    "version": 3
   },
   "file_extension": ".py",
   "mimetype": "text/x-python",
   "name": "python",
   "nbconvert_exporter": "python",
   "pygments_lexer": "ipython3",
   "version": "3.9.13"
  }
 },
 "nbformat": 4,
 "nbformat_minor": 5
}
